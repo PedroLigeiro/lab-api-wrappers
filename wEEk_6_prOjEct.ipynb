{
 "cells": [
  {
   "cell_type": "code",
   "execution_count": null,
   "id": "cfd669eb",
   "metadata": {},
   "outputs": [],
   "source": [
    "import requests\n",
    "from bs4 import BeautifulSoup\n",
    "import pandas as pd\n",
    "pd.set_option(\"display.max_columns\", 0)\n",
    "import spotipy\n",
    "from spotipy.oauth2 import SpotifyClientCredentials\n",
    "from pandas import json_normalize\n",
    "from random import randint\n",
    "from time import sleep\n"
   ]
  },
  {
   "cell_type": "code",
   "execution_count": null,
   "id": "76847239",
   "metadata": {},
   "outputs": [],
   "source": [
    "url = \"https://www.popvortex.com/music/charts/top-100-songs.php\"\n",
    "response = requests.get(url)\n",
    "soup = BeautifulSoup(response.content, \"html.parser\")\n"
   ]
  },
  {
   "cell_type": "code",
   "execution_count": null,
   "id": "de00df7d",
   "metadata": {
    "scrolled": true
   },
   "outputs": [],
   "source": [
    "#soup.select(\"body > div.container > div:nth-child(4) > div.col-xs-12.col-md-8 > div.chart-wrapper\")\n"
   ]
  },
  {
   "cell_type": "code",
   "execution_count": null,
   "id": "519e053c",
   "metadata": {},
   "outputs": [],
   "source": [
    "title = []\n",
    "for t in soup.select(\"p.title-artist cite.title\"):\n",
    "    title.append(t.get_text())\n",
    "#title\n"
   ]
  },
  {
   "cell_type": "code",
   "execution_count": null,
   "id": "a00391a9",
   "metadata": {},
   "outputs": [],
   "source": [
    "artist = []\n",
    "for a in soup.select(\"p.title-artist em.artist\"):\n",
    "    artist.append(a.get_text())\n",
    "#artist\n"
   ]
  },
  {
   "cell_type": "code",
   "execution_count": null,
   "id": "a4031d42",
   "metadata": {},
   "outputs": [],
   "source": [
    "chart = pd.DataFrame({\"song\": title, \"artist\": artist})\n",
    "#chart\n"
   ]
  },
  {
   "cell_type": "code",
   "execution_count": null,
   "id": "c255a087",
   "metadata": {},
   "outputs": [],
   "source": []
  },
  {
   "cell_type": "code",
   "execution_count": null,
   "id": "2f4aa1ab",
   "metadata": {},
   "outputs": [],
   "source": [
    "secrets_file = open(\"secrets\",\"r\")\n",
    "string = secrets_file.read()\n",
    "secrets_dict={}\n",
    "for line in string.split(\"\\n\"):\n",
    "    if len(line) > 0:\n",
    "        secrets_dict[line.split(\":\")[0]]=line.split(\":\")[1].strip()\n",
    "#secrets_dict\n"
   ]
  },
  {
   "cell_type": "code",
   "execution_count": null,
   "id": "9e3113c8",
   "metadata": {},
   "outputs": [],
   "source": [
    "sp = spotipy.Spotify(auth_manager=SpotifyClientCredentials(client_id=secrets_dict[\"clientid\"],\n",
    "                                                           client_secret=secrets_dict[\"clientsecret\"]))\n"
   ]
  },
  {
   "cell_type": "code",
   "execution_count": null,
   "id": "21d6cde4",
   "metadata": {},
   "outputs": [],
   "source": [
    "bach = sp.user_playlist_tracks(\"spotify\", \"37i9dQZF1DWZnzwzLBft6A\")\n",
    "bach_tracks = json_normalize(bach[\"items\"])\n"
   ]
  },
  {
   "cell_type": "code",
   "execution_count": null,
   "id": "f92be7c2",
   "metadata": {},
   "outputs": [],
   "source": [
    "barber = sp.user_playlist_tracks(\"spotify\", \"37i9dQZF1DXbi91wCkbX7I\")\n",
    "barber_tracks = json_normalize(barber[\"items\"])\n"
   ]
  },
  {
   "cell_type": "code",
   "execution_count": null,
   "id": "a60a3605",
   "metadata": {},
   "outputs": [],
   "source": [
    "bartok = sp.user_playlist_tracks(\"spotify\", \"37i9dQZF1DX5ZPNS2aXuN4\")\n",
    "bartok_tracks = json_normalize(bartok[\"items\"])\n"
   ]
  },
  {
   "cell_type": "code",
   "execution_count": null,
   "id": "53ade0fb",
   "metadata": {},
   "outputs": [],
   "source": [
    "beethoven = sp.user_playlist_tracks(\"spotify\", \"37i9dQZF1DX12YIlzNkccL\")\n",
    "beethoven_tracks = json_normalize(beethoven[\"items\"])\n"
   ]
  },
  {
   "cell_type": "code",
   "execution_count": null,
   "id": "fa5a89c2",
   "metadata": {},
   "outputs": [],
   "source": [
    "borodin = sp.user_playlist_tracks(\"spotify\", \"37i9dQZF1DXaTZjelPZBk5\")\n",
    "borodin_tracks = json_normalize(borodin[\"items\"])\n"
   ]
  },
  {
   "cell_type": "code",
   "execution_count": null,
   "id": "f48a0cae",
   "metadata": {},
   "outputs": [],
   "source": [
    "brahms = sp.user_playlist_tracks(\"spotify\", \"37i9dQZF1DXaQQM8OxjxoC\")\n",
    "brahms_tracks = json_normalize(brahms[\"items\"])\n"
   ]
  },
  {
   "cell_type": "code",
   "execution_count": null,
   "id": "b38824b7",
   "metadata": {},
   "outputs": [],
   "source": [
    "britten = sp.user_playlist_tracks(\"spotify\", \"37i9dQZF1DWVr6c5mKPd4M\")\n",
    "britten_tracks = json_normalize(britten[\"items\"])\n"
   ]
  },
  {
   "cell_type": "code",
   "execution_count": null,
   "id": "032b34dd",
   "metadata": {},
   "outputs": [],
   "source": [
    "bruch = sp.user_playlist_tracks(\"spotify\", \"37i9dQZF1DXcBb2OkC8Yi5\")\n",
    "bruch_tracks = json_normalize(bruch[\"items\"])\n"
   ]
  },
  {
   "cell_type": "code",
   "execution_count": null,
   "id": "1edb52ef",
   "metadata": {},
   "outputs": [],
   "source": [
    "debussy = sp.user_playlist_tracks(\"spotify\", \"37i9dQZF1DWXnRw5VvmZDb\")\n",
    "debussy_tracks = json_normalize(debussy[\"items\"])\n"
   ]
  },
  {
   "cell_type": "code",
   "execution_count": null,
   "id": "862217d9",
   "metadata": {},
   "outputs": [],
   "source": [
    "delius = sp.user_playlist_tracks(\"spotify\", \"37i9dQZF1DXbwRENt9XwCM\")\n",
    "delius_tracks = json_normalize(delius[\"items\"])\n"
   ]
  },
  {
   "cell_type": "code",
   "execution_count": null,
   "id": "93d2dc25",
   "metadata": {},
   "outputs": [],
   "source": [
    "dvorak = sp.user_playlist_tracks(\"spotify\", \"37i9dQZF1DWZwvaSJuR2fl\")\n",
    "dvorak_tracks = json_normalize(dvorak[\"items\"])\n"
   ]
  },
  {
   "cell_type": "code",
   "execution_count": null,
   "id": "9d189a0c",
   "metadata": {},
   "outputs": [],
   "source": [
    "elgar = sp.user_playlist_tracks(\"spotify\", \"37i9dQZF1DWZXjKiX0FBkp\")\n",
    "elgar_tracks = json_normalize(elgar[\"items\"])\n"
   ]
  },
  {
   "cell_type": "code",
   "execution_count": null,
   "id": "ba0fb2ea",
   "metadata": {},
   "outputs": [],
   "source": [
    "faure = sp.user_playlist_tracks(\"spotify\", \"37i9dQZF1DWUxYyQ75sKfq\")\n",
    "faure_tracks = json_normalize(faure[\"items\"])\n"
   ]
  },
  {
   "cell_type": "code",
   "execution_count": null,
   "id": "96cf5112",
   "metadata": {},
   "outputs": [],
   "source": [
    "glazunov = sp.user_playlist_tracks(\"spotify\", \"37i9dQZF1DX5VxmGyKyKdj\")\n",
    "glazunov_tracks = json_normalize(glazunov[\"items\"])\n"
   ]
  },
  {
   "cell_type": "code",
   "execution_count": null,
   "id": "4155fd5e",
   "metadata": {},
   "outputs": [],
   "source": [
    "handel = sp.user_playlist_tracks(\"spotify\", \"37i9dQZF1DX9ZP5oobcNgA\")\n",
    "handel_tracks = json_normalize(handel[\"items\"])\n"
   ]
  },
  {
   "cell_type": "code",
   "execution_count": null,
   "id": "63681f90",
   "metadata": {},
   "outputs": [],
   "source": [
    "hayden = sp.user_playlist_tracks(\"spotify\", \"37i9dQZF1DX16wERbfwQvR\")\n",
    "hayden_tracks = json_normalize(hayden[\"items\"])\n"
   ]
  },
  {
   "cell_type": "code",
   "execution_count": null,
   "id": "4c024b2a",
   "metadata": {},
   "outputs": [],
   "source": [
    "khachaturian = sp.user_playlist_tracks(\"spotify\", \"37i9dQZF1DWYDIrvsgeIsR\")\n",
    "khachaturian_tracks = json_normalize(khachaturian[\"items\"])\n"
   ]
  },
  {
   "cell_type": "code",
   "execution_count": null,
   "id": "33c778c2",
   "metadata": {},
   "outputs": [],
   "source": [
    "liszt = sp.user_playlist_tracks(\"spotify\", \"37i9dQZF1DX93wmY669mVj\")\n",
    "liszt_tracks = json_normalize(liszt[\"items\"])\n"
   ]
  },
  {
   "cell_type": "code",
   "execution_count": null,
   "id": "5496682b",
   "metadata": {},
   "outputs": [],
   "source": [
    "mendelssohn = sp.user_playlist_tracks(\"spotify\", \"37i9dQZF1DWSQ26whVULj0\")\n",
    "mendelssohn_tracks = json_normalize(mendelssohn[\"items\"])\n"
   ]
  },
  {
   "cell_type": "code",
   "execution_count": null,
   "id": "1242d96a",
   "metadata": {},
   "outputs": [],
   "source": [
    "mozart = sp.user_playlist_tracks(\"spotify\", \"37i9dQZF1DX8qqIDAkKiQg\")\n",
    "mozart_tracks = json_normalize(mozart[\"items\"])\n"
   ]
  },
  {
   "cell_type": "code",
   "execution_count": null,
   "id": "791dc038",
   "metadata": {},
   "outputs": [],
   "source": [
    "mussorgsky = sp.user_playlist_tracks(\"spotify\", \"37i9dQZF1DX7NmqJ8kaoJN\")\n",
    "mussorgsky_tracks = json_normalize(mussorgsky[\"items\"])\n"
   ]
  },
  {
   "cell_type": "code",
   "execution_count": null,
   "id": "093a6421",
   "metadata": {},
   "outputs": [],
   "source": [
    "poulenc = sp.user_playlist_tracks(\"spotify\", \"37i9dQZF1DWUfjdgpBgcZD\")\n",
    "poulenc_tracks = json_normalize(poulenc[\"items\"])\n"
   ]
  },
  {
   "cell_type": "code",
   "execution_count": null,
   "id": "280fdf62",
   "metadata": {},
   "outputs": [],
   "source": [
    "prokofiev = sp.user_playlist_tracks(\"spotify\", \"37i9dQZF1DX1tT8vLysk8r\")\n",
    "prokofiev_tracks = json_normalize(prokofiev[\"items\"])\n"
   ]
  },
  {
   "cell_type": "code",
   "execution_count": null,
   "id": "890c920a",
   "metadata": {},
   "outputs": [],
   "source": [
    "puccini = sp.user_playlist_tracks(\"spotify\", \"37i9dQZF1DWXN6CDDJDZSt\")\n",
    "puccini_tracks = json_normalize(puccini[\"items\"])\n"
   ]
  },
  {
   "cell_type": "code",
   "execution_count": null,
   "id": "ec951200",
   "metadata": {},
   "outputs": [],
   "source": [
    "rachmaninoff = sp.user_playlist_tracks(\"spotify\", \"37i9dQZF1DX5Flpl98I3He\")\n",
    "rachmaninoff_tracks = json_normalize(rachmaninoff[\"items\"])\n"
   ]
  },
  {
   "cell_type": "code",
   "execution_count": null,
   "id": "d40522a4",
   "metadata": {},
   "outputs": [],
   "source": [
    "ravel = sp.user_playlist_tracks(\"spotify\", \"37i9dQZF1DWZhMbcax6CUd\")\n",
    "ravel_tracks = json_normalize(ravel[\"items\"])\n"
   ]
  },
  {
   "cell_type": "code",
   "execution_count": null,
   "id": "80baad58",
   "metadata": {},
   "outputs": [],
   "source": [
    "respighi = sp.user_playlist_tracks(\"spotify\", \"37i9dQZF1DX0aKG75oCKwF\")\n",
    "respighi_tracks = json_normalize(respighi[\"items\"])\n"
   ]
  },
  {
   "cell_type": "code",
   "execution_count": null,
   "id": "7153014f",
   "metadata": {},
   "outputs": [],
   "source": [
    "strauss = sp.user_playlist_tracks(\"spotify\", \"37i9dQZF1DX37CqNpZIOOZ\")\n",
    "strauss_tracks = json_normalize(strauss[\"items\"])\n"
   ]
  },
  {
   "cell_type": "code",
   "execution_count": null,
   "id": "a6df84b9",
   "metadata": {},
   "outputs": [],
   "source": [
    "korsakov = sp.user_playlist_tracks(\"spotify\", \"37i9dQZF1DWUkjDX9yFzrf\")\n",
    "korsakov_tracks = json_normalize(korsakov[\"items\"])\n"
   ]
  },
  {
   "cell_type": "code",
   "execution_count": null,
   "id": "8f90428d",
   "metadata": {},
   "outputs": [],
   "source": [
    "rossini = sp.user_playlist_tracks(\"spotify\", \"37i9dQZF1DX0VplLa7NC0a\")\n",
    "rossini_tracks = json_normalize(rossini[\"items\"])\n"
   ]
  },
  {
   "cell_type": "code",
   "execution_count": null,
   "id": "fccd95b6",
   "metadata": {},
   "outputs": [],
   "source": [
    "saens = sp.user_playlist_tracks(\"spotify\", \"37i9dQZF1DX8eklCw215jb\")\n",
    "saens_tracks = json_normalize(saens[\"items\"])\n"
   ]
  },
  {
   "cell_type": "code",
   "execution_count": null,
   "id": "88edd58a",
   "metadata": {},
   "outputs": [],
   "source": [
    "satie = sp.user_playlist_tracks(\"spotify\", \"37i9dQZF1DWVTUSNpU0pKJ\")\n",
    "satie_tracks = json_normalize(satie[\"items\"])\n"
   ]
  },
  {
   "cell_type": "code",
   "execution_count": null,
   "id": "d80cce6e",
   "metadata": {},
   "outputs": [],
   "source": [
    "schubert = sp.user_playlist_tracks(\"spotify\", \"37i9dQZF1DWY3VlkBR4Jhb\")\n",
    "schubert_tracks = json_normalize(schubert[\"items\"])\n"
   ]
  },
  {
   "cell_type": "code",
   "execution_count": null,
   "id": "483fb2d5",
   "metadata": {},
   "outputs": [],
   "source": [
    "schumann = sp.user_playlist_tracks(\"spotify\", \"37i9dQZF1DX1W7If2h64K3\")\n",
    "schumann_tracks = json_normalize(schumann[\"items\"])\n"
   ]
  },
  {
   "cell_type": "code",
   "execution_count": null,
   "id": "2ba28876",
   "metadata": {},
   "outputs": [],
   "source": [
    "schostakovich = sp.user_playlist_tracks(\"spotify\", \"37i9dQZF1DXbJgoX0EGLWU\")\n",
    "schostakovich_tracks = json_normalize(schostakovich[\"items\"])\n"
   ]
  },
  {
   "cell_type": "code",
   "execution_count": null,
   "id": "c5a0abc6",
   "metadata": {},
   "outputs": [],
   "source": [
    "sibelius = sp.user_playlist_tracks(\"spotify\", \"37i9dQZF1DXcetdKlCf0VE\")\n",
    "sibelius_tracks = json_normalize(sibelius[\"items\"])\n"
   ]
  },
  {
   "cell_type": "code",
   "execution_count": null,
   "id": "ab662b2b",
   "metadata": {},
   "outputs": [],
   "source": [
    "smetana = sp.user_playlist_tracks(\"spotify\", \"37i9dQZF1DX2hpSN9Q4Hfd\")\n",
    "smetana_tracks = json_normalize(smetana[\"items\"])\n"
   ]
  },
  {
   "cell_type": "code",
   "execution_count": null,
   "id": "97280588",
   "metadata": {},
   "outputs": [],
   "source": [
    "tchaikovsky = sp.user_playlist_tracks(\"spotify\", \"37i9dQZF1DX2kvBlhyEkb6\")\n",
    "tchaikovsky_tracks = json_normalize(tchaikovsky[\"items\"])\n"
   ]
  },
  {
   "cell_type": "code",
   "execution_count": null,
   "id": "5b82ec91",
   "metadata": {},
   "outputs": [],
   "source": [
    "williams = sp.user_playlist_tracks(\"spotify\", \"37i9dQZF1DX16DYGZ5ktAV\")\n",
    "williams_tracks = json_normalize(williams[\"items\"])\n"
   ]
  },
  {
   "cell_type": "code",
   "execution_count": null,
   "id": "190c2d6b",
   "metadata": {},
   "outputs": [],
   "source": [
    "verdi = sp.user_playlist_tracks(\"spotify\", \"37i9dQZF1DX0FIO61wizta\")\n",
    "verdi_tracks = json_normalize(verdi[\"items\"])\n"
   ]
  },
  {
   "cell_type": "code",
   "execution_count": null,
   "id": "49ff61ca",
   "metadata": {},
   "outputs": [],
   "source": [
    "vivaldi = sp.user_playlist_tracks(\"spotify\", \"37i9dQZF1DWTBNkoD4HmYd\")\n",
    "vivaldi_tracks = json_normalize(vivaldi[\"items\"])\n"
   ]
  },
  {
   "cell_type": "code",
   "execution_count": null,
   "id": "1856a2a5",
   "metadata": {},
   "outputs": [],
   "source": [
    "wagner = sp.user_playlist_tracks(\"spotify\", \"37i9dQZF1DX6Hln2awUHXX\")\n",
    "wagner_tracks = json_normalize(wagner[\"items\"])\n"
   ]
  },
  {
   "cell_type": "code",
   "execution_count": null,
   "id": "5e86d156",
   "metadata": {},
   "outputs": [],
   "source": [
    "classical_tracks = pd.concat([bach_tracks, barber_tracks, bartok_tracks, beethoven_tracks, borodin_tracks, brahms_tracks, britten_tracks, bruch_tracks, debussy_tracks, delius_tracks, dvorak_tracks, elgar_tracks, faure_tracks, glazunov_tracks, handel_tracks, hayden_tracks, khachaturian_tracks, liszt_tracks, mendelssohn_tracks, mozart_tracks, mussorgsky_tracks, poulenc_tracks, prokofiev_tracks, puccini_tracks, rachmaninoff_tracks, ravel_tracks, respighi_tracks, strauss_tracks, korsakov_tracks, rossini_tracks, saens_tracks, satie_tracks, schubert_tracks, schumann_tracks, schostakovich_tracks, sibelius_tracks, smetana_tracks, tchaikovsky_tracks, williams_tracks, verdi_tracks, vivaldi_tracks, wagner_tracks], axis=0)\n",
    "#classical_tracks\n"
   ]
  },
  {
   "cell_type": "code",
   "execution_count": null,
   "id": "aaa1b562",
   "metadata": {},
   "outputs": [],
   "source": [
    "classical_tracks = classical_tracks[[\"track.id\", \"track.name\", \"track.popularity\"]]\n",
    "classical_tracks = classical_tracks.rename(columns={\"track.id\": \"track_id\", \"track.name\": \"track_name\", \"track.popularity\": \"track_popularity\"})\n",
    "#classical_tracks\n"
   ]
  },
  {
   "cell_type": "code",
   "execution_count": null,
   "id": "fd68e114",
   "metadata": {},
   "outputs": [],
   "source": [
    "chunks = [(i, i+100) for i in range(0, len(classical_tracks), 100)]\n",
    "audio_features = []\n",
    "for chunk in chunks:\n",
    "    id_list_100 = classical_tracks[\"track_id\"][chunk[0]:chunk[1]]\n",
    "    audio_features = audio_features + sp.audio_features(id_list_100)\n",
    "    sleep(randint(1,3000)/1000)\n",
    "#audio_features\n"
   ]
  },
  {
   "cell_type": "code",
   "execution_count": null,
   "id": "c17f2f2c",
   "metadata": {},
   "outputs": [],
   "source": [
    "audio_features = json_normalize(audio_features)\n",
    "#audio_features\n"
   ]
  },
  {
   "cell_type": "code",
   "execution_count": null,
   "id": "c7f93be5",
   "metadata": {},
   "outputs": [],
   "source": [
    "classical_tracks_audio_features = pd.merge(left=classical_tracks,\n",
    "                                           right=audio_features,\n",
    "                                           how=\"inner\",\n",
    "                                           left_on=\"track_id\",\n",
    "                                           right_on=\"id\")\n",
    "#classical_tracks_audio_features\n"
   ]
  },
  {
   "cell_type": "code",
   "execution_count": null,
   "id": "704531c8",
   "metadata": {},
   "outputs": [],
   "source": []
  }
 ],
 "metadata": {
  "kernelspec": {
   "display_name": "Python 3 (ipykernel)",
   "language": "python",
   "name": "python3"
  },
  "language_info": {
   "codemirror_mode": {
    "name": "ipython",
    "version": 3
   },
   "file_extension": ".py",
   "mimetype": "text/x-python",
   "name": "python",
   "nbconvert_exporter": "python",
   "pygments_lexer": "ipython3",
   "version": "3.11.5"
  }
 },
 "nbformat": 4,
 "nbformat_minor": 5
}
